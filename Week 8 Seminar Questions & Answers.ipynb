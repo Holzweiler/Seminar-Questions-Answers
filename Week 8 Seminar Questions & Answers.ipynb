{
 "cells": [
  {
   "cell_type": "code",
   "execution_count": 63,
   "id": "8b3a9d50",
   "metadata": {},
   "outputs": [],
   "source": [
    "import numpy as np\n",
    "import pandas as pd\n",
    "import matplotlib.pyplot as plt\n",
    "import scipy.stats as si\n",
    "import yfinance as yf\n",
    "import os"
   ]
  },
  {
   "cell_type": "code",
   "execution_count": 64,
   "id": "75f111a5",
   "metadata": {},
   "outputs": [
    {
     "name": "stdout",
     "output_type": "stream",
     "text": [
      "[*********************100%***********************]  1 of 1 completed\n"
     ]
    }
   ],
   "source": [
    "# Question 1\n",
    "# Download the daily data (from 17/03/2022 to \n",
    "# 17/03/2023) for the S&P 500ETF (SPY) from Yahoo Finance by using yfinance package. \n",
    "# Get the spot priceof the Index\n",
    "\n",
    "data = yf.download('SPY', start='2022-03-17', end='2023-03-18')"
   ]
  },
  {
   "cell_type": "code",
   "execution_count": 65,
   "id": "3c1aa435",
   "metadata": {},
   "outputs": [
    {
     "data": {
      "text/html": [
       "<div>\n",
       "<style scoped>\n",
       "    .dataframe tbody tr th:only-of-type {\n",
       "        vertical-align: middle;\n",
       "    }\n",
       "\n",
       "    .dataframe tbody tr th {\n",
       "        vertical-align: top;\n",
       "    }\n",
       "\n",
       "    .dataframe thead th {\n",
       "        text-align: right;\n",
       "    }\n",
       "</style>\n",
       "<table border=\"1\" class=\"dataframe\">\n",
       "  <thead>\n",
       "    <tr style=\"text-align: right;\">\n",
       "      <th></th>\n",
       "      <th>Open</th>\n",
       "      <th>High</th>\n",
       "      <th>Low</th>\n",
       "      <th>Close</th>\n",
       "      <th>Adj Close</th>\n",
       "      <th>Volume</th>\n",
       "    </tr>\n",
       "    <tr>\n",
       "      <th>Date</th>\n",
       "      <th></th>\n",
       "      <th></th>\n",
       "      <th></th>\n",
       "      <th></th>\n",
       "      <th></th>\n",
       "      <th></th>\n",
       "    </tr>\n",
       "  </thead>\n",
       "  <tbody>\n",
       "    <tr>\n",
       "      <th>2022-03-17</th>\n",
       "      <td>433.589996</td>\n",
       "      <td>441.070007</td>\n",
       "      <td>433.190002</td>\n",
       "      <td>441.070007</td>\n",
       "      <td>432.378418</td>\n",
       "      <td>102676900</td>\n",
       "    </tr>\n",
       "    <tr>\n",
       "      <th>2022-03-18</th>\n",
       "      <td>438.000000</td>\n",
       "      <td>444.859985</td>\n",
       "      <td>437.220001</td>\n",
       "      <td>444.519989</td>\n",
       "      <td>437.114197</td>\n",
       "      <td>106345500</td>\n",
       "    </tr>\n",
       "    <tr>\n",
       "      <th>2022-03-21</th>\n",
       "      <td>444.339996</td>\n",
       "      <td>446.459991</td>\n",
       "      <td>440.679993</td>\n",
       "      <td>444.390015</td>\n",
       "      <td>436.986359</td>\n",
       "      <td>88349800</td>\n",
       "    </tr>\n",
       "    <tr>\n",
       "      <th>2022-03-22</th>\n",
       "      <td>445.859985</td>\n",
       "      <td>450.579987</td>\n",
       "      <td>445.859985</td>\n",
       "      <td>449.589996</td>\n",
       "      <td>442.099701</td>\n",
       "      <td>74650400</td>\n",
       "    </tr>\n",
       "    <tr>\n",
       "      <th>2022-03-23</th>\n",
       "      <td>446.910004</td>\n",
       "      <td>448.489990</td>\n",
       "      <td>443.709991</td>\n",
       "      <td>443.799988</td>\n",
       "      <td>436.406189</td>\n",
       "      <td>79426100</td>\n",
       "    </tr>\n",
       "  </tbody>\n",
       "</table>\n",
       "</div>"
      ],
      "text/plain": [
       "                  Open        High         Low       Close   Adj Close  \\\n",
       "Date                                                                     \n",
       "2022-03-17  433.589996  441.070007  433.190002  441.070007  432.378418   \n",
       "2022-03-18  438.000000  444.859985  437.220001  444.519989  437.114197   \n",
       "2022-03-21  444.339996  446.459991  440.679993  444.390015  436.986359   \n",
       "2022-03-22  445.859985  450.579987  445.859985  449.589996  442.099701   \n",
       "2022-03-23  446.910004  448.489990  443.709991  443.799988  436.406189   \n",
       "\n",
       "               Volume  \n",
       "Date                   \n",
       "2022-03-17  102676900  \n",
       "2022-03-18  106345500  \n",
       "2022-03-21   88349800  \n",
       "2022-03-22   74650400  \n",
       "2022-03-23   79426100  "
      ]
     },
     "execution_count": 65,
     "metadata": {},
     "output_type": "execute_result"
    }
   ],
   "source": [
    "data.head()"
   ]
  },
  {
   "cell_type": "code",
   "execution_count": 66,
   "id": "be7f3228",
   "metadata": {},
   "outputs": [
    {
     "data": {
      "text/html": [
       "<div>\n",
       "<style scoped>\n",
       "    .dataframe tbody tr th:only-of-type {\n",
       "        vertical-align: middle;\n",
       "    }\n",
       "\n",
       "    .dataframe tbody tr th {\n",
       "        vertical-align: top;\n",
       "    }\n",
       "\n",
       "    .dataframe thead th {\n",
       "        text-align: right;\n",
       "    }\n",
       "</style>\n",
       "<table border=\"1\" class=\"dataframe\">\n",
       "  <thead>\n",
       "    <tr style=\"text-align: right;\">\n",
       "      <th></th>\n",
       "      <th>Open</th>\n",
       "      <th>High</th>\n",
       "      <th>Low</th>\n",
       "      <th>Close</th>\n",
       "      <th>Adj Close</th>\n",
       "      <th>Volume</th>\n",
       "    </tr>\n",
       "    <tr>\n",
       "      <th>Date</th>\n",
       "      <th></th>\n",
       "      <th></th>\n",
       "      <th></th>\n",
       "      <th></th>\n",
       "      <th></th>\n",
       "      <th></th>\n",
       "    </tr>\n",
       "  </thead>\n",
       "  <tbody>\n",
       "    <tr>\n",
       "      <th>2023-03-13</th>\n",
       "      <td>381.809998</td>\n",
       "      <td>390.390015</td>\n",
       "      <td>380.649994</td>\n",
       "      <td>385.359985</td>\n",
       "      <td>383.894836</td>\n",
       "      <td>157790000</td>\n",
       "    </tr>\n",
       "    <tr>\n",
       "      <th>2023-03-14</th>\n",
       "      <td>390.500000</td>\n",
       "      <td>393.450012</td>\n",
       "      <td>387.049988</td>\n",
       "      <td>391.730011</td>\n",
       "      <td>390.240662</td>\n",
       "      <td>149752400</td>\n",
       "    </tr>\n",
       "    <tr>\n",
       "      <th>2023-03-15</th>\n",
       "      <td>385.890015</td>\n",
       "      <td>389.489990</td>\n",
       "      <td>383.709991</td>\n",
       "      <td>389.279999</td>\n",
       "      <td>387.799957</td>\n",
       "      <td>172996900</td>\n",
       "    </tr>\n",
       "    <tr>\n",
       "      <th>2023-03-16</th>\n",
       "      <td>386.820007</td>\n",
       "      <td>396.470001</td>\n",
       "      <td>386.290009</td>\n",
       "      <td>396.109985</td>\n",
       "      <td>394.603973</td>\n",
       "      <td>143254200</td>\n",
       "    </tr>\n",
       "    <tr>\n",
       "      <th>2023-03-17</th>\n",
       "      <td>393.220001</td>\n",
       "      <td>394.399994</td>\n",
       "      <td>388.549988</td>\n",
       "      <td>389.989990</td>\n",
       "      <td>389.989990</td>\n",
       "      <td>140047400</td>\n",
       "    </tr>\n",
       "  </tbody>\n",
       "</table>\n",
       "</div>"
      ],
      "text/plain": [
       "                  Open        High         Low       Close   Adj Close  \\\n",
       "Date                                                                     \n",
       "2023-03-13  381.809998  390.390015  380.649994  385.359985  383.894836   \n",
       "2023-03-14  390.500000  393.450012  387.049988  391.730011  390.240662   \n",
       "2023-03-15  385.890015  389.489990  383.709991  389.279999  387.799957   \n",
       "2023-03-16  386.820007  396.470001  386.290009  396.109985  394.603973   \n",
       "2023-03-17  393.220001  394.399994  388.549988  389.989990  389.989990   \n",
       "\n",
       "               Volume  \n",
       "Date                   \n",
       "2023-03-13  157790000  \n",
       "2023-03-14  149752400  \n",
       "2023-03-15  172996900  \n",
       "2023-03-16  143254200  \n",
       "2023-03-17  140047400  "
      ]
     },
     "execution_count": 66,
     "metadata": {},
     "output_type": "execute_result"
    }
   ],
   "source": [
    "data.tail()"
   ]
  },
  {
   "cell_type": "code",
   "execution_count": 67,
   "id": "0dc2c499",
   "metadata": {},
   "outputs": [
    {
     "name": "stdout",
     "output_type": "stream",
     "text": [
      "The spot price is $ 389.99\n"
     ]
    }
   ],
   "source": [
    "S = data['Adj Close'][-1]\n",
    "print('The spot price is $', round(S,2))"
   ]
  },
  {
   "cell_type": "code",
   "execution_count": 68,
   "id": "25578dee",
   "metadata": {},
   "outputs": [],
   "source": [
    "# Question 2\n",
    "# Calibrate the annualised volatility of the SPY. Compare it with the VIX data.\n",
    "\n",
    "log_return = np.log(data['Adj Close'] / data['Adj Close'].shift(1))"
   ]
  },
  {
   "cell_type": "code",
   "execution_count": 69,
   "id": "02caa4d5",
   "metadata": {},
   "outputs": [
    {
     "name": "stdout",
     "output_type": "stream",
     "text": [
      "The annualised volatility is 23.4 %\n"
     ]
    }
   ],
   "source": [
    "vol = np.sqrt(252) * log_return.std() \n",
    "print('The annualised volatility is', round(vol*100,2), '%')"
   ]
  },
  {
   "cell_type": "code",
   "execution_count": 88,
   "id": "e6da479b",
   "metadata": {},
   "outputs": [
    {
     "name": "stdout",
     "output_type": "stream",
     "text": [
      "[*********************100%***********************]  1 of 1 completed\n"
     ]
    }
   ],
   "source": [
    "VIX = yf.download(\"^VIX\", start=\"2022-03-17\", end=\"2023-03-18\")"
   ]
  },
  {
   "cell_type": "code",
   "execution_count": 89,
   "id": "b98d2eb1",
   "metadata": {},
   "outputs": [
    {
     "name": "stdout",
     "output_type": "stream",
     "text": [
      "The market volatility is 25.51 %\n"
     ]
    }
   ],
   "source": [
    "vix = VIX['Adj Close'][-1]\n",
    "print('The market volatility is', round(vix,2), '%')"
   ]
  },
  {
   "cell_type": "code",
   "execution_count": 90,
   "id": "af5bdc0e",
   "metadata": {},
   "outputs": [],
   "source": [
    "# Question 3\n",
    "# Find the call and put option price with Strike at 400 and Expiry date on 14/04/2023\n",
    "\n",
    "def euro_option_bs(S, K, T, r, vol, payoff):\n",
    "    \n",
    "    #S: spot price\n",
    "    #K: strike price\n",
    "    #T: time to maturity\n",
    "    #r: interest rate\n",
    "    #vol: volatility of underlying asset\n",
    "    #payoff: call or put\n",
    "    \n",
    "    d1 = (np.log(S / K) + (r + 0.5 * vol ** 2) * T) / (vol * np.sqrt(T))\n",
    "    d2 = (np.log(S / K) + (r - 0.5 * vol ** 2) * T) / (vol * np.sqrt(T))\n",
    "    if payoff == \"call\":\n",
    "        option_value = S * si.norm.cdf(d1, 0.0, 1.0) - K * np.exp(-r * T) * si.norm.cdf(d2, 0.0, 1.0)\n",
    "    elif payoff == \"put\":\n",
    "        option_value = - S * si.norm.cdf(-d1, 0.0, 1.0) + K * np.exp(-r * T) * si.norm.cdf(-d2, 0.0, 1.0)\n",
    "    \n",
    "    return option_value"
   ]
  },
  {
   "cell_type": "code",
   "execution_count": 91,
   "id": "5455b144",
   "metadata": {},
   "outputs": [],
   "source": [
    "K = 400 # Bestemt pris\n",
    "T = 3/52 # Beregnes ut i fra om det er uker/måneder\n",
    "r = 0.0338 # Må sjekkes opp på Google for å finne oppdatert interest rate"
   ]
  },
  {
   "cell_type": "code",
   "execution_count": 92,
   "id": "62b7e902",
   "metadata": {},
   "outputs": [
    {
     "name": "stdout",
     "output_type": "stream",
     "text": [
      "The BS call price is $ 4.99\n"
     ]
    }
   ],
   "source": [
    "call = euro_option_bs(S, K, T, r, vol, 'call')\n",
    "print('The BS call price is $', round(call, 2))"
   ]
  },
  {
   "cell_type": "code",
   "execution_count": 93,
   "id": "049f366c",
   "metadata": {},
   "outputs": [
    {
     "name": "stdout",
     "output_type": "stream",
     "text": [
      "The BS put price is $ 14.22\n"
     ]
    }
   ],
   "source": [
    "put = euro_option_bs(S, K, T, r, vol, 'put')\n",
    "print('The BS put price is $', round(put, 2))"
   ]
  },
  {
   "cell_type": "code",
   "execution_count": 94,
   "id": "33c86a06",
   "metadata": {},
   "outputs": [],
   "source": [
    "# Question 4\n",
    "# Compare the value with the market price.\n",
    "\n",
    "SP500 = yf.Ticker('SPY')"
   ]
  },
  {
   "cell_type": "code",
   "execution_count": 95,
   "id": "85655eba",
   "metadata": {},
   "outputs": [
    {
     "name": "stdout",
     "output_type": "stream",
     "text": [
      "The Market call price is $ 4.77\n"
     ]
    }
   ],
   "source": [
    "opt = SP500.option_chain('2023-04-14')\n",
    "call1 = opt.calls.lastPrice[opt.calls.strike == K]\n",
    "print('The Market call price is $', float(call1.values))"
   ]
  },
  {
   "cell_type": "code",
   "execution_count": 96,
   "id": "c716f990",
   "metadata": {},
   "outputs": [
    {
     "name": "stdout",
     "output_type": "stream",
     "text": [
      "The Market put price is $ 12.5\n"
     ]
    }
   ],
   "source": [
    "put1 = opt.puts.lastPrice[opt.puts.strike == K]\n",
    "print('The Market put price is $', float(put1.values))"
   ]
  },
  {
   "cell_type": "code",
   "execution_count": 97,
   "id": "34ea7220",
   "metadata": {},
   "outputs": [
    {
     "name": "stdout",
     "output_type": "stream",
     "text": [
      "The BS call price is $ 5.72\n"
     ]
    }
   ],
   "source": [
    "# Question 5\n",
    "# If we use the VIX as volatility, what is the results for Q3 and Q4? \n",
    "# Which oneis closer to the market price?\n",
    "\n",
    "call2 = euro_option_bs(S, K, T, r, vix*0.01, 'call')\n",
    "print('The BS call price is $', round(call2,2))"
   ]
  },
  {
   "cell_type": "code",
   "execution_count": 98,
   "id": "685a1fc8",
   "metadata": {},
   "outputs": [
    {
     "name": "stdout",
     "output_type": "stream",
     "text": [
      "The BS put price is $ 14.95\n"
     ]
    }
   ],
   "source": [
    "put2 = euro_option_bs(S, K, T, r, vix*0.01, 'put')\n",
    "print('The BS put price is $', round(put2,2))"
   ]
  },
  {
   "cell_type": "code",
   "execution_count": 99,
   "id": "532ab69d",
   "metadata": {},
   "outputs": [],
   "source": [
    "# Question 6\n",
    "# Set the Strike from $375 to $425 (every $10), and Time\n",
    "# is one week, twoweeks, one month, two months, one quarter, half year and one year. \n",
    "# Set volatility equals to the VIX value. Plot the call price 3D surface\n",
    "\n",
    "K = np.linspace(375,425,6)\n",
    "T = [1/52, 2/52, 1/12, 2/12, 1/4, 1/2, 1]"
   ]
  },
  {
   "cell_type": "code",
   "execution_count": 100,
   "id": "84fea6c5",
   "metadata": {},
   "outputs": [],
   "source": [
    "call = np.zeros((len(T),len(K)))\n",
    "for i in range(len(T)):\n",
    "    for j in range(len(K)):\n",
    "        call[i,j] = euro_option_bs(S, K[j], T[i], r, vix*0.01, 'call')"
   ]
  },
  {
   "cell_type": "code",
   "execution_count": 101,
   "id": "9bd80773",
   "metadata": {},
   "outputs": [],
   "source": [
    "import matplotlib as mpl\n",
    "import matplotlib.pyplot as plt\n",
    "plt.style.use('seaborn')\n",
    "mpl.rcParams['font.family'] = 'serif'\n",
    "%matplotlib inline\n",
    "\n",
    "strike, ttm = np.meshgrid(K, T)"
   ]
  },
  {
   "cell_type": "code",
   "execution_count": 102,
   "id": "025e078a",
   "metadata": {
    "scrolled": false
   },
   "outputs": [
    {
     "name": "stderr",
     "output_type": "stream",
     "text": [
      "/var/folders/ld/6dz5k2qx3t7bb6dmg2c3pf6c0000gn/T/ipykernel_24898/2376249277.py:3: MatplotlibDeprecationWarning: Calling gca() with keyword arguments was deprecated in Matplotlib 3.4. Starting two minor releases later, gca() will take no keyword arguments. The gca() function should only be used to get the current axes, or if no axes exist, create new axes with default keyword arguments. To create a new axes with non-default arguments, use plt.axes() or plt.subplot().\n",
      "  ax = fig.gca(projection='3d')\n"
     ]
    },
    {
     "data": {
      "image/png": "[encoded data removed]",
      "text/plain": [
       "<Figure size 1000x600 with 2 Axes>"
      ]
     },
     "metadata": {},
     "output_type": "display_data"
    }
   ],
   "source": [
    "from mpl_toolkits.mplot3d import Axes3D\n",
    "fig = plt.figure(figsize=(10, 6))\n",
    "ax = fig.gca(projection='3d')\n",
    "surf = ax.plot_surface(strike, ttm, call, rstride=2, cstride=2, cmap=plt.cm.coolwarm, linewidth=0.5, antialiased=True)\n",
    "ax.set_xlabel('Strike')\n",
    "ax.set_ylabel('Time to expiry')\n",
    "ax.set_zlabel('Call price')\n",
    "fig.colorbar(surf, shrink=0.5, aspect=5);"
   ]
  },
  {
   "cell_type": "code",
   "execution_count": null,
   "id": "c72983c7",
   "metadata": {},
   "outputs": [],
   "source": []
  }
 ],
 "metadata": {
  "kernelspec": {
   "display_name": "Python 3 (ipykernel)",
   "language": "python",
   "name": "python3"
  },
  "language_info": {
   "codemirror_mode": {
    "name": "ipython",
    "version": 3
   },
   "file_extension": ".py",
   "mimetype": "text/x-python",
   "name": "python",
   "nbconvert_exporter": "python",
   "pygments_lexer": "ipython3",
   "version": "3.9.13"
  }
 },
 "nbformat": 4,
 "nbformat_minor": 5
}
