{
 "cells": [
  {
   "cell_type": "code",
   "execution_count": 1,
   "id": "a3656116",
   "metadata": {},
   "outputs": [
    {
     "name": "stdout",
     "output_type": "stream",
     "text": [
      "Hello World!\n"
     ]
    }
   ],
   "source": [
    "# Question 1 - Print ‘Hello World!’, what is the type of this?\n",
    "\n",
    "print (\"Hello World!\") # Prints out the word written inside of () when you run the code"
   ]
  },
  {
   "cell_type": "code",
   "execution_count": 3,
   "id": "161d18e5",
   "metadata": {},
   "outputs": [
    {
     "data": {
      "text/plain": [
       "builtin_function_or_method"
      ]
     },
     "execution_count": 3,
     "metadata": {},
     "output_type": "execute_result"
    }
   ],
   "source": [
    "type (print) # Shows which variable print gives us"
   ]
  },
  {
   "cell_type": "code",
   "execution_count": 5,
   "id": "c49aa32f",
   "metadata": {
    "scrolled": true
   },
   "outputs": [
    {
     "data": {
      "text/plain": [
       "str"
      ]
     },
     "execution_count": 5,
     "metadata": {},
     "output_type": "execute_result"
    }
   ],
   "source": [
    "type (\"Hello World!\") # Shows the type of the variable inside of ()"
   ]
  },
  {
   "cell_type": "code",
   "execution_count": 6,
   "id": "440a3c1d",
   "metadata": {},
   "outputs": [
    {
     "name": "stdout",
     "output_type": "stream",
     "text": [
      "0\n",
      "1\n",
      "2\n",
      "3\n",
      "4\n"
     ]
    }
   ],
   "source": [
    "# Question 2 - Set a loop for x from 0 to 9, and print x if x<5.\n",
    "\n",
    "for x in range(10): # a colon denotes the start of an indented block\n",
    "    if x < 5:       # Jupyter automatically indent by four spaces\n",
    "        print(x)\n",
    "else: \n",
    "    pass # do nothing\n",
    "\n",
    "# This code will iterate over values of x from 0 to 9 using the range() function. \n",
    "# For each value of x, the code checks if x is less than 5 using an if statement.\n",
    "# If x is less than 5, the code prints the value of x using the print() function."
   ]
  },
  {
   "cell_type": "code",
   "execution_count": 7,
   "id": "18151a20",
   "metadata": {},
   "outputs": [
    {
     "name": "stdout",
     "output_type": "stream",
     "text": [
      "100.0 <class 'float'>\n"
     ]
    }
   ],
   "source": [
    "# Question 3 - What is the data type of ‘100’? How to change it to the float type? \n",
    "# Print theright data with its type.\n",
    "\n",
    "# to be able to do mathematical operations, we need to convert strings to numbers...\n",
    "value = '100'\n",
    "float_value = float(value)\n",
    "\n",
    "print(float_value, type(float_value))\n",
    "\n",
    "# In this example, the value variable is assigned the value of the string '100'. \n",
    "# Then, the float() function is used to convert value to a floating-point number, \n",
    "# which is stored in the float_value variable.\n",
    "# Finally, the print() function is used to display the value of float_value along with \n",
    "# its data type using the type() function."
   ]
  },
  {
   "cell_type": "code",
   "execution_count": 8,
   "id": "ebcea411",
   "metadata": {},
   "outputs": [
    {
     "name": "stdout",
     "output_type": "stream",
     "text": [
      "<class 'NoneType'>\n"
     ]
    }
   ],
   "source": [
    "# Question 4 - Set a value equals to None, what is its type?\n",
    "\n",
    "value = None # True & False are special kinds of data\n",
    "print(type(value))"
   ]
  },
  {
   "cell_type": "code",
   "execution_count": 10,
   "id": "e79cb29a",
   "metadata": {
    "scrolled": true
   },
   "outputs": [
    {
     "name": "stdout",
     "output_type": "stream",
     "text": [
      "0\n",
      "-0.1\n",
      "-0.05\n"
     ]
    }
   ],
   "source": [
    "# Question 5 - What is round(x) in Python? Find the value when x=-0.05 y=0,1,2.\n",
    "\n",
    "x = -0.05\n",
    "y1 = round(x)\n",
    "y2 = round(x, 1)\n",
    "y3 = round(x, 2)\n",
    "\n",
    "print(y1) # Output: 0\n",
    "print(y2) # Output: -0.1\n",
    "print(y3) # Output: -0.05"
   ]
  },
  {
   "cell_type": "code",
   "execution_count": 11,
   "id": "52c9f323",
   "metadata": {},
   "outputs": [
    {
     "name": "stdout",
     "output_type": "stream",
     "text": [
      "What's your name?\n",
      "Daniel\n",
      "What's your age?\n",
      "23\n",
      "Hello, my name is Daniel and I am 23 years old!\n"
     ]
    }
   ],
   "source": [
    "# Question 6 - Set a Python program to ask you your name and age. And then print theanswer.\n",
    "\n",
    "# create a variable store name\n",
    "# input will return whatever input by user.\n",
    "print(\"What's your name?\") # The question\n",
    "my_name = input() # Makes a write-in-your-name tab\n",
    "print(\"What's your age?\") # The question\n",
    "# input function outputs string now\n",
    "my_age = input() # Makes a write-in-your-age tab\n",
    "print(\"Hello, my name is {} and I am {} years old!\".format(my_name, my_age)) # Prints your answers"
   ]
  },
  {
   "cell_type": "code",
   "execution_count": null,
   "id": "c0e51bbc",
   "metadata": {},
   "outputs": [],
   "source": []
  }
 ],
 "metadata": {
  "kernelspec": {
   "display_name": "Python 3 (ipykernel)",
   "language": "python",
   "name": "python3"
  },
  "language_info": {
   "codemirror_mode": {
    "name": "ipython",
    "version": 3
   },
   "file_extension": ".py",
   "mimetype": "text/x-python",
   "name": "python",
   "nbconvert_exporter": "python",
   "pygments_lexer": "ipython3",
   "version": "3.9.13"
  }
 },
 "nbformat": 4,
 "nbformat_minor": 5
}
